{
 "cells": [
  {
   "cell_type": "markdown",
   "metadata": {},
   "source": [
    "This is the skills assesment for the bayou meto lidar quality data set!"
   ]
  },
  {
   "cell_type": "code",
   "execution_count": 7,
   "metadata": {},
   "outputs": [],
   "source": [
    "# import libraries\n",
    "import pandas as pd\n",
    "import numpy as np\n",
    "import matplotlib.pyplot as plt"
   ]
  },
  {
   "cell_type": "code",
   "execution_count": 6,
   "metadata": {},
   "outputs": [
    {
     "data": {
      "text/html": [
       "<div>\n",
       "<style scoped>\n",
       "    .dataframe tbody tr th:only-of-type {\n",
       "        vertical-align: middle;\n",
       "    }\n",
       "\n",
       "    .dataframe tbody tr th {\n",
       "        vertical-align: top;\n",
       "    }\n",
       "\n",
       "    .dataframe thead th {\n",
       "        text-align: right;\n",
       "    }\n",
       "</style>\n",
       "<table border=\"1\" class=\"dataframe\">\n",
       "  <thead>\n",
       "    <tr style=\"text-align: right;\">\n",
       "      <th></th>\n",
       "      <th>Region</th>\n",
       "      <th>ID</th>\n",
       "      <th>Description</th>\n",
       "      <th>X</th>\n",
       "      <th>Y</th>\n",
       "      <th>GPS-Z</th>\n",
       "      <th>Lidar-Z</th>\n",
       "      <th>LandCover</th>\n",
       "    </tr>\n",
       "  </thead>\n",
       "  <tbody>\n",
       "    <tr>\n",
       "      <th>0</th>\n",
       "      <td>North</td>\n",
       "      <td>21</td>\n",
       "      <td>Lonoke Park</td>\n",
       "      <td>600612.683</td>\n",
       "      <td>3849204.812</td>\n",
       "      <td>73.620</td>\n",
       "      <td>73.684</td>\n",
       "      <td>Asphalt</td>\n",
       "    </tr>\n",
       "    <tr>\n",
       "      <th>1</th>\n",
       "      <td>North</td>\n",
       "      <td>22</td>\n",
       "      <td>Lonoke HS Parking</td>\n",
       "      <td>600123.308</td>\n",
       "      <td>3849067.230</td>\n",
       "      <td>73.852</td>\n",
       "      <td>73.973</td>\n",
       "      <td>Asphalt</td>\n",
       "    </tr>\n",
       "    <tr>\n",
       "      <th>2</th>\n",
       "      <td>North</td>\n",
       "      <td>26</td>\n",
       "      <td>England HS Parking</td>\n",
       "      <td>595917.787</td>\n",
       "      <td>3822919.619</td>\n",
       "      <td>68.964</td>\n",
       "      <td>69.088</td>\n",
       "      <td>Asphalt</td>\n",
       "    </tr>\n",
       "    <tr>\n",
       "      <th>3</th>\n",
       "      <td>North</td>\n",
       "      <td>39</td>\n",
       "      <td>Carlisle Park</td>\n",
       "      <td>614680.847</td>\n",
       "      <td>3850053.041</td>\n",
       "      <td>70.818</td>\n",
       "      <td>70.955</td>\n",
       "      <td>Asphalt</td>\n",
       "    </tr>\n",
       "    <tr>\n",
       "      <th>4</th>\n",
       "      <td>South</td>\n",
       "      <td>8</td>\n",
       "      <td>5800-50063355</td>\n",
       "      <td>613953.929</td>\n",
       "      <td>3805055.048</td>\n",
       "      <td>58.563</td>\n",
       "      <td>58.518</td>\n",
       "      <td>Asphalt</td>\n",
       "    </tr>\n",
       "  </tbody>\n",
       "</table>\n",
       "</div>"
      ],
      "text/plain": [
       "  Region  ID         Description           X            Y   GPS-Z  Lidar-Z  \\\n",
       "0  North  21         Lonoke Park  600612.683  3849204.812  73.620   73.684   \n",
       "1  North  22   Lonoke HS Parking  600123.308  3849067.230  73.852   73.973   \n",
       "2  North  26  England HS Parking  595917.787  3822919.619  68.964   69.088   \n",
       "3  North  39       Carlisle Park  614680.847  3850053.041  70.818   70.955   \n",
       "4  South   8       5800-50063355  613953.929  3805055.048  58.563   58.518   \n",
       "\n",
       "  LandCover  \n",
       "0   Asphalt  \n",
       "1   Asphalt  \n",
       "2   Asphalt  \n",
       "3   Asphalt  \n",
       "4   Asphalt  "
      ]
     },
     "execution_count": 6,
     "metadata": {},
     "output_type": "execute_result"
    }
   ],
   "source": [
    "# read the data file\n",
    "\n",
    "file_name = \"./Data/BayouMeto_Lidar_QA.csv\"\n",
    "BML_csv_df =pd.read_csv(file_name)\n",
    "BML_csv_df.head()"
   ]
  },
  {
   "cell_type": "code",
   "execution_count": 12,
   "metadata": {},
   "outputs": [
    {
     "data": {
      "image/png": "[encoded data removed]",
      "text/plain": [
       "<Figure size 640x480 with 1 Axes>"
      ]
     },
     "metadata": {},
     "output_type": "display_data"
    }
   ],
   "source": [
    "# plot the locations of the check points (the x and y columns)\n",
    "plt.title(\"Locations of Check Points\")\n",
    "plt.xlabel(\"X\")\n",
    "plt.ylabel(\"Y\")\n",
    "plt.scatter(BML_csv_df[\"X\"], BML_csv_df[\"Y\"], color = 'palevioletred')\n",
    "plt.show()"
   ]
  },
  {
   "cell_type": "code",
   "execution_count": 16,
   "metadata": {},
   "outputs": [
    {
     "name": "stdout",
     "output_type": "stream",
     "text": [
      "0.07010000000000005\n",
      "0.12297629540187603\n"
     ]
    }
   ],
   "source": [
    "# compute and print the mean and standard deviation of the differences between Lidar-Z and GPS-Z measurements\n",
    "# get the difference between lidar and gps\n",
    "BML_csv_df[\"Difference\"] = (BML_csv_df[\"Lidar-Z\"] - BML_csv_df[\"GPS-Z\"])\n",
    "print(BML_csv_df[\"Difference\"].mean())\n",
    "print(BML_csv_df[\"Difference\"].std())"
   ]
  },
  {
   "cell_type": "code",
   "execution_count": 32,
   "metadata": {},
   "outputs": [
    {
     "name": "stdout",
     "output_type": "stream",
     "text": [
      "Region\n",
      "North    0.1397\n",
      "South    0.0005\n",
      "Name: Difference, dtype: float64\n",
      "Region\n",
      "North    0.117374\n",
      "South    0.084068\n",
      "Name: Difference, dtype: float64\n"
     ]
    }
   ],
   "source": [
    "# compute and print the mean and standard deviation of the differences between Lidar-Z and GPS-Z by region\n",
    "print(BML_csv_df.groupby('Region')['Difference'].mean())\n",
    "print(BML_csv_df.groupby('Region')['Difference'].std())\n"
   ]
  },
  {
   "cell_type": "code",
   "execution_count": 31,
   "metadata": {},
   "outputs": [
    {
     "name": "stdout",
     "output_type": "stream",
     "text": [
      "LandCover\n",
      "Asphalt    0.048714\n",
      "Dirt       0.019143\n",
      "Forest     0.106143\n",
      "Grass      0.078900\n",
      "Scrub      0.088556\n",
      "Name: Difference, dtype: float64\n",
      "LandCover\n",
      "Asphalt    0.096864\n",
      "Dirt       0.058565\n",
      "Forest     0.190118\n",
      "Grass      0.127083\n",
      "Scrub      0.120622\n",
      "Name: Difference, dtype: float64\n"
     ]
    }
   ],
   "source": [
    "# compute and print the mean and standard deviation of the differences between Lidar-Z and GPS-Z by LandCover\n",
    "print(BML_csv_df.groupby('LandCover')['Difference'].mean())\n",
    "print(BML_csv_df.groupby('LandCover')['Difference'].std())"
   ]
  },
  {
   "cell_type": "markdown",
   "metadata": {},
   "source": [
    "Qualitatively assess, in a comment section in your script, whether measurement quality is affected by Region or LandCover.\n",
    "\n",
    "- I believe that measurement quality is affected by by landcover, because there is less variance among the different landcovers more so than by region. "
   ]
  },
  {
   "cell_type": "code",
   "execution_count": 42,
   "metadata": {},
   "outputs": [
    {
     "data": {
      "image/png": "[encoded data removed]",
      "text/plain": [
       "<Figure size 640x480 with 1 Axes>"
      ]
     },
     "metadata": {},
     "output_type": "display_data"
    }
   ],
   "source": [
    "# Create a plot of your choice to illustrate your assessment.\n",
    "plt.scatter(BML_csv_df[\"LandCover\"], BML_csv_df[\"Difference\"], color = 'lightseagreen')\n",
    "plt.scatter(BML_csv_df[\"Region\"], BML_csv_df[\"Difference\"], color = 'orchid')\n",
    "plt.show()"
   ]
  }
 ],
 "metadata": {
  "kernelspec": {
   "display_name": "Python 3.9.12 ('base')",
   "language": "python",
   "name": "python3"
  },
  "language_info": {
   "codemirror_mode": {
    "name": "ipython",
    "version": 3
   },
   "file_extension": ".py",
   "mimetype": "text/x-python",
   "name": "python",
   "nbconvert_exporter": "python",
   "pygments_lexer": "ipython3",
   "version": "3.9.12"
  },
  "orig_nbformat": 4,
  "vscode": {
   "interpreter": {
    "hash": "3c2e948c25dd524ac6f03da1631e41d712efe62569f8881a57a4c371a34771ae"
   }
  }
 },
 "nbformat": 4,
 "nbformat_minor": 2
}
